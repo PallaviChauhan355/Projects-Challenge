{
 "cells": [
  {
   "cell_type": "markdown",
   "id": "98d07b07",
   "metadata": {},
   "source": [
    "## <span style=\"font-family:Bauhaus 93; font-weight:bold;font-size:3.2em;color:Orange;\">spam and Ham mail detection"
   ]
  },
  {
   "cell_type": "markdown",
   "id": "79b24bc7",
   "metadata": {},
   "source": [
    "## Data decription:The data is related to Spam and Ham mail(inbox mails)  detection "
   ]
  },
  {
   "cell_type": "markdown",
   "id": "a99a7020",
   "metadata": {},
   "source": [
    "## Goal: To predict whether mail is spam or Ham"
   ]
  },
  {
   "cell_type": "markdown",
   "id": "5044337e",
   "metadata": {},
   "source": [
    " ### <i> <font color=olive > Importing required libraries"
   ]
  },
  {
   "cell_type": "code",
   "execution_count": 56,
   "id": "cc0a41c8",
   "metadata": {},
   "outputs": [],
   "source": [
    "import pandas as pd \n",
    "import numpy as np\n",
    "import seaborn as sns \n",
    "import matplotlib.pyplot as plt\n",
    "from sklearn.model_selection import train_test_split\n",
    "from sklearn.feature_extraction.text import TfidfVectorizer\n",
    "from sklearn.feature_extraction.text import CountVectorizer\n",
    "from sklearn.feature_extraction import text\n",
    "import warnings\n",
    "warnings.filterwarnings(\"ignore\")\n",
    "\n"
   ]
  },
  {
   "cell_type": "markdown",
   "id": "bf0598a4",
   "metadata": {},
   "source": [
    "### <i> <font color=olive > Loading the Dataset"
   ]
  },
  {
   "cell_type": "code",
   "execution_count": 57,
   "id": "1d5ca9a9",
   "metadata": {
    "scrolled": true
   },
   "outputs": [
    {
     "data": {
      "text/html": [
       "<div>\n",
       "<style scoped>\n",
       "    .dataframe tbody tr th:only-of-type {\n",
       "        vertical-align: middle;\n",
       "    }\n",
       "\n",
       "    .dataframe tbody tr th {\n",
       "        vertical-align: top;\n",
       "    }\n",
       "\n",
       "    .dataframe thead th {\n",
       "        text-align: right;\n",
       "    }\n",
       "</style>\n",
       "<table border=\"1\" class=\"dataframe\">\n",
       "  <thead>\n",
       "    <tr style=\"text-align: right;\">\n",
       "      <th></th>\n",
       "      <th>Category</th>\n",
       "      <th>Message</th>\n",
       "    </tr>\n",
       "  </thead>\n",
       "  <tbody>\n",
       "    <tr>\n",
       "      <th>0</th>\n",
       "      <td>ham</td>\n",
       "      <td>Go until jurong point, crazy.. Available only ...</td>\n",
       "    </tr>\n",
       "    <tr>\n",
       "      <th>1</th>\n",
       "      <td>ham</td>\n",
       "      <td>Ok lar... Joking wif u oni...</td>\n",
       "    </tr>\n",
       "    <tr>\n",
       "      <th>2</th>\n",
       "      <td>spam</td>\n",
       "      <td>Free entry in 2 a wkly comp to win FA Cup fina...</td>\n",
       "    </tr>\n",
       "    <tr>\n",
       "      <th>3</th>\n",
       "      <td>ham</td>\n",
       "      <td>U dun say so early hor... U c already then say...</td>\n",
       "    </tr>\n",
       "    <tr>\n",
       "      <th>4</th>\n",
       "      <td>ham</td>\n",
       "      <td>Nah I don't think he goes to usf, he lives aro...</td>\n",
       "    </tr>\n",
       "    <tr>\n",
       "      <th>...</th>\n",
       "      <td>...</td>\n",
       "      <td>...</td>\n",
       "    </tr>\n",
       "    <tr>\n",
       "      <th>5567</th>\n",
       "      <td>spam</td>\n",
       "      <td>This is the 2nd time we have tried 2 contact u...</td>\n",
       "    </tr>\n",
       "    <tr>\n",
       "      <th>5568</th>\n",
       "      <td>ham</td>\n",
       "      <td>Will ü b going to esplanade fr home?</td>\n",
       "    </tr>\n",
       "    <tr>\n",
       "      <th>5569</th>\n",
       "      <td>ham</td>\n",
       "      <td>Pity, * was in mood for that. So...any other s...</td>\n",
       "    </tr>\n",
       "    <tr>\n",
       "      <th>5570</th>\n",
       "      <td>ham</td>\n",
       "      <td>The guy did some bitching but I acted like i'd...</td>\n",
       "    </tr>\n",
       "    <tr>\n",
       "      <th>5571</th>\n",
       "      <td>ham</td>\n",
       "      <td>Rofl. Its true to its name</td>\n",
       "    </tr>\n",
       "  </tbody>\n",
       "</table>\n",
       "<p>5572 rows × 2 columns</p>\n",
       "</div>"
      ],
      "text/plain": [
       "     Category                                            Message\n",
       "0         ham  Go until jurong point, crazy.. Available only ...\n",
       "1         ham                      Ok lar... Joking wif u oni...\n",
       "2        spam  Free entry in 2 a wkly comp to win FA Cup fina...\n",
       "3         ham  U dun say so early hor... U c already then say...\n",
       "4         ham  Nah I don't think he goes to usf, he lives aro...\n",
       "...       ...                                                ...\n",
       "5567     spam  This is the 2nd time we have tried 2 contact u...\n",
       "5568      ham               Will ü b going to esplanade fr home?\n",
       "5569      ham  Pity, * was in mood for that. So...any other s...\n",
       "5570      ham  The guy did some bitching but I acted like i'd...\n",
       "5571      ham                         Rofl. Its true to its name\n",
       "\n",
       "[5572 rows x 2 columns]"
      ]
     },
     "execution_count": 57,
     "metadata": {},
     "output_type": "execute_result"
    }
   ],
   "source": [
    "raw_mail_data=pd.read_csv(\"mail_data.csv\")\n",
    "raw_mail_data"
   ]
  },
  {
   "cell_type": "code",
   "execution_count": 58,
   "id": "b724117c",
   "metadata": {},
   "outputs": [
    {
     "data": {
      "text/plain": [
       "'Go until jurong point, crazy.. Available only in bugis n great world la e buffet... Cine there got amore wat...'"
      ]
     },
     "execution_count": 58,
     "metadata": {},
     "output_type": "execute_result"
    }
   ],
   "source": [
    "raw_mail_data['Message'][0]"
   ]
  },
  {
   "cell_type": "code",
   "execution_count": 59,
   "id": "b2d9bf04",
   "metadata": {},
   "outputs": [
    {
     "data": {
      "text/plain": [
       "ham     0.865937\n",
       "spam    0.134063\n",
       "Name: Category, dtype: float64"
      ]
     },
     "execution_count": 59,
     "metadata": {},
     "output_type": "execute_result"
    }
   ],
   "source": [
    "raw_mail_data['Category'].value_counts(normalize=True)"
   ]
  },
  {
   "cell_type": "code",
   "execution_count": 60,
   "id": "8d5cf791",
   "metadata": {},
   "outputs": [
    {
     "data": {
      "text/html": [
       "<div>\n",
       "<style scoped>\n",
       "    .dataframe tbody tr th:only-of-type {\n",
       "        vertical-align: middle;\n",
       "    }\n",
       "\n",
       "    .dataframe tbody tr th {\n",
       "        vertical-align: top;\n",
       "    }\n",
       "\n",
       "    .dataframe thead th {\n",
       "        text-align: right;\n",
       "    }\n",
       "</style>\n",
       "<table border=\"1\" class=\"dataframe\">\n",
       "  <thead>\n",
       "    <tr style=\"text-align: right;\">\n",
       "      <th></th>\n",
       "      <th>Category</th>\n",
       "      <th>Message</th>\n",
       "    </tr>\n",
       "  </thead>\n",
       "  <tbody>\n",
       "    <tr>\n",
       "      <th>0</th>\n",
       "      <td>ham</td>\n",
       "      <td>Go until jurong point, crazy.. Available only ...</td>\n",
       "    </tr>\n",
       "    <tr>\n",
       "      <th>1</th>\n",
       "      <td>ham</td>\n",
       "      <td>Ok lar... Joking wif u oni...</td>\n",
       "    </tr>\n",
       "    <tr>\n",
       "      <th>2</th>\n",
       "      <td>spam</td>\n",
       "      <td>Free entry in 2 a wkly comp to win FA Cup fina...</td>\n",
       "    </tr>\n",
       "    <tr>\n",
       "      <th>3</th>\n",
       "      <td>ham</td>\n",
       "      <td>U dun say so early hor... U c already then say...</td>\n",
       "    </tr>\n",
       "    <tr>\n",
       "      <th>4</th>\n",
       "      <td>ham</td>\n",
       "      <td>Nah I don't think he goes to usf, he lives aro...</td>\n",
       "    </tr>\n",
       "  </tbody>\n",
       "</table>\n",
       "</div>"
      ],
      "text/plain": [
       "  Category                                            Message\n",
       "0      ham  Go until jurong point, crazy.. Available only ...\n",
       "1      ham                      Ok lar... Joking wif u oni...\n",
       "2     spam  Free entry in 2 a wkly comp to win FA Cup fina...\n",
       "3      ham  U dun say so early hor... U c already then say...\n",
       "4      ham  Nah I don't think he goes to usf, he lives aro..."
      ]
     },
     "execution_count": 60,
     "metadata": {},
     "output_type": "execute_result"
    }
   ],
   "source": [
    "raw_mail_data.head()         # To display first five records of our data"
   ]
  },
  {
   "cell_type": "code",
   "execution_count": 61,
   "id": "ccc44a7b",
   "metadata": {},
   "outputs": [
    {
     "data": {
      "text/plain": [
       "(5572, 2)"
      ]
     },
     "execution_count": 61,
     "metadata": {},
     "output_type": "execute_result"
    }
   ],
   "source": [
    "raw_mail_data.shape        #To know the size of our data"
   ]
  },
  {
   "cell_type": "code",
   "execution_count": 62,
   "id": "abe3c664",
   "metadata": {},
   "outputs": [
    {
     "name": "stdout",
     "output_type": "stream",
     "text": [
      "<class 'pandas.core.frame.DataFrame'>\n",
      "RangeIndex: 5572 entries, 0 to 5571\n",
      "Data columns (total 2 columns):\n",
      " #   Column    Non-Null Count  Dtype \n",
      "---  ------    --------------  ----- \n",
      " 0   Category  5572 non-null   object\n",
      " 1   Message   5572 non-null   object\n",
      "dtypes: object(2)\n",
      "memory usage: 87.2+ KB\n"
     ]
    }
   ],
   "source": [
    "raw_mail_data.info()          #To display datatype of each attribute and gives count of attribute"
   ]
  },
  {
   "cell_type": "code",
   "execution_count": 63,
   "id": "3d8d6600",
   "metadata": {},
   "outputs": [
    {
     "name": "stdout",
     "output_type": "stream",
     "text": [
      "Numerical fields\t: 0\n",
      "Categorical fields\t: 2\n"
     ]
    }
   ],
   "source": [
    "raw_mail_data_num=raw_mail_data.select_dtypes(include=np.number)          #Numeric fields\n",
    "raw_mail_data_cat=raw_mail_data.select_dtypes(exclude=np.number)          #Categorical fields\n",
    "print(\"Numerical fields\\t:\",len(raw_mail_data_num.columns))  \n",
    "print(\"Categorical fields\\t:\",len(raw_mail_data_cat.columns))  "
   ]
  },
  {
   "cell_type": "markdown",
   "id": "efc8fd71",
   "metadata": {},
   "source": [
    " 1. Our dataset contains a 5K records with 2 attributes\n",
    " 2. Its consists 0 numeric and 2 categorical fields"
   ]
  },
  {
   "cell_type": "code",
   "execution_count": 64,
   "id": "db89fbfe",
   "metadata": {},
   "outputs": [
    {
     "data": {
      "text/plain": [
       "Category    0\n",
       "Message     0\n",
       "dtype: int64"
      ]
     },
     "execution_count": 64,
     "metadata": {},
     "output_type": "execute_result"
    }
   ],
   "source": [
    "raw_mail_data.isnull().sum()   #To check the missing values"
   ]
  },
  {
   "cell_type": "markdown",
   "id": "9a443e58",
   "metadata": {},
   "source": [
    "## Here we noticed there are no missing values "
   ]
  },
  {
   "cell_type": "code",
   "execution_count": 65,
   "id": "6349609e",
   "metadata": {},
   "outputs": [
    {
     "data": {
      "text/html": [
       "<div>\n",
       "<style scoped>\n",
       "    .dataframe tbody tr th:only-of-type {\n",
       "        vertical-align: middle;\n",
       "    }\n",
       "\n",
       "    .dataframe tbody tr th {\n",
       "        vertical-align: top;\n",
       "    }\n",
       "\n",
       "    .dataframe thead th {\n",
       "        text-align: right;\n",
       "    }\n",
       "</style>\n",
       "<table border=\"1\" class=\"dataframe\">\n",
       "  <thead>\n",
       "    <tr style=\"text-align: right;\">\n",
       "      <th></th>\n",
       "      <th>Category</th>\n",
       "      <th>Message</th>\n",
       "    </tr>\n",
       "  </thead>\n",
       "  <tbody>\n",
       "    <tr>\n",
       "      <th>count</th>\n",
       "      <td>5572</td>\n",
       "      <td>5572</td>\n",
       "    </tr>\n",
       "    <tr>\n",
       "      <th>unique</th>\n",
       "      <td>2</td>\n",
       "      <td>5157</td>\n",
       "    </tr>\n",
       "    <tr>\n",
       "      <th>top</th>\n",
       "      <td>ham</td>\n",
       "      <td>Sorry, I'll call later</td>\n",
       "    </tr>\n",
       "    <tr>\n",
       "      <th>freq</th>\n",
       "      <td>4825</td>\n",
       "      <td>30</td>\n",
       "    </tr>\n",
       "  </tbody>\n",
       "</table>\n",
       "</div>"
      ],
      "text/plain": [
       "       Category                 Message\n",
       "count      5572                    5572\n",
       "unique        2                    5157\n",
       "top         ham  Sorry, I'll call later\n",
       "freq       4825                      30"
      ]
     },
     "execution_count": 65,
     "metadata": {},
     "output_type": "execute_result"
    }
   ],
   "source": [
    "raw_mail_data.describe()"
   ]
  },
  {
   "cell_type": "markdown",
   "id": "837615ca",
   "metadata": {},
   "source": [
    "#  There is two unique labels.\n",
    "# There are some repeated messages as unique is less that the count due to some comman messages."
   ]
  },
  {
   "cell_type": "markdown",
   "id": "997b0ea9",
   "metadata": {},
   "source": [
    "### <i> <font color=olive > EDA"
   ]
  },
  {
   "cell_type": "code",
   "execution_count": 66,
   "id": "2c4e3355",
   "metadata": {},
   "outputs": [
    {
     "data": {
      "text/plain": [
       "<AxesSubplot:xlabel='Category', ylabel='count'>"
      ]
     },
     "execution_count": 66,
     "metadata": {},
     "output_type": "execute_result"
    },
    {
     "data": {
      "image/png": "[encoded data removed]",
      "text/plain": [
       "<Figure size 432x288 with 1 Axes>"
      ]
     },
     "metadata": {
      "needs_background": "light"
     },
     "output_type": "display_data"
    }
   ],
   "source": [
    "sns.countplot(x='Category', data=raw_mail_data)"
   ]
  },
  {
   "cell_type": "markdown",
   "id": "5a4e4da7",
   "metadata": {},
   "source": [
    "##   this graph shows the  less no of spam mails as compared to Ham mails(inbox mails).so it is an imbalanced data."
   ]
  },
  {
   "cell_type": "markdown",
   "id": "f0d4189a",
   "metadata": {},
   "source": [
    "### <i> <font color=olive > Label encoding"
   ]
  },
  {
   "cell_type": "code",
   "execution_count": 67,
   "id": "0041b88a",
   "metadata": {},
   "outputs": [
    {
     "data": {
      "text/html": [
       "<div>\n",
       "<style scoped>\n",
       "    .dataframe tbody tr th:only-of-type {\n",
       "        vertical-align: middle;\n",
       "    }\n",
       "\n",
       "    .dataframe tbody tr th {\n",
       "        vertical-align: top;\n",
       "    }\n",
       "\n",
       "    .dataframe thead th {\n",
       "        text-align: right;\n",
       "    }\n",
       "</style>\n",
       "<table border=\"1\" class=\"dataframe\">\n",
       "  <thead>\n",
       "    <tr style=\"text-align: right;\">\n",
       "      <th></th>\n",
       "      <th>Category</th>\n",
       "      <th>Message</th>\n",
       "    </tr>\n",
       "  </thead>\n",
       "  <tbody>\n",
       "    <tr>\n",
       "      <th>0</th>\n",
       "      <td>1</td>\n",
       "      <td>Go until jurong point, crazy.. Available only ...</td>\n",
       "    </tr>\n",
       "    <tr>\n",
       "      <th>1</th>\n",
       "      <td>1</td>\n",
       "      <td>Ok lar... Joking wif u oni...</td>\n",
       "    </tr>\n",
       "    <tr>\n",
       "      <th>2</th>\n",
       "      <td>0</td>\n",
       "      <td>Free entry in 2 a wkly comp to win FA Cup fina...</td>\n",
       "    </tr>\n",
       "    <tr>\n",
       "      <th>3</th>\n",
       "      <td>1</td>\n",
       "      <td>U dun say so early hor... U c already then say...</td>\n",
       "    </tr>\n",
       "    <tr>\n",
       "      <th>4</th>\n",
       "      <td>1</td>\n",
       "      <td>Nah I don't think he goes to usf, he lives aro...</td>\n",
       "    </tr>\n",
       "    <tr>\n",
       "      <th>...</th>\n",
       "      <td>...</td>\n",
       "      <td>...</td>\n",
       "    </tr>\n",
       "    <tr>\n",
       "      <th>5567</th>\n",
       "      <td>0</td>\n",
       "      <td>This is the 2nd time we have tried 2 contact u...</td>\n",
       "    </tr>\n",
       "    <tr>\n",
       "      <th>5568</th>\n",
       "      <td>1</td>\n",
       "      <td>Will ü b going to esplanade fr home?</td>\n",
       "    </tr>\n",
       "    <tr>\n",
       "      <th>5569</th>\n",
       "      <td>1</td>\n",
       "      <td>Pity, * was in mood for that. So...any other s...</td>\n",
       "    </tr>\n",
       "    <tr>\n",
       "      <th>5570</th>\n",
       "      <td>1</td>\n",
       "      <td>The guy did some bitching but I acted like i'd...</td>\n",
       "    </tr>\n",
       "    <tr>\n",
       "      <th>5571</th>\n",
       "      <td>1</td>\n",
       "      <td>Rofl. Its true to its name</td>\n",
       "    </tr>\n",
       "  </tbody>\n",
       "</table>\n",
       "<p>5572 rows × 2 columns</p>\n",
       "</div>"
      ],
      "text/plain": [
       "     Category                                            Message\n",
       "0           1  Go until jurong point, crazy.. Available only ...\n",
       "1           1                      Ok lar... Joking wif u oni...\n",
       "2           0  Free entry in 2 a wkly comp to win FA Cup fina...\n",
       "3           1  U dun say so early hor... U c already then say...\n",
       "4           1  Nah I don't think he goes to usf, he lives aro...\n",
       "...       ...                                                ...\n",
       "5567        0  This is the 2nd time we have tried 2 contact u...\n",
       "5568        1               Will ü b going to esplanade fr home?\n",
       "5569        1  Pity, * was in mood for that. So...any other s...\n",
       "5570        1  The guy did some bitching but I acted like i'd...\n",
       "5571        1                         Rofl. Its true to its name\n",
       "\n",
       "[5572 rows x 2 columns]"
      ]
     },
     "execution_count": 67,
     "metadata": {},
     "output_type": "execute_result"
    }
   ],
   "source": [
    "raw_mail_data.loc[raw_mail_data['Category']=='spam','Category',]=0\n",
    "raw_mail_data.loc[raw_mail_data['Category']=='ham','Category',]=1        # label spam mail as 0 and ham  mail as 1\n",
    "raw_mail_data"
   ]
  },
  {
   "cell_type": "markdown",
   "id": "590de82a",
   "metadata": {},
   "source": [
    "# 'Category' column shows 1 as ham mail and 0 as spam mail"
   ]
  },
  {
   "cell_type": "code",
   "execution_count": 68,
   "id": "f720f749",
   "metadata": {},
   "outputs": [
    {
     "name": "stdout",
     "output_type": "stream",
     "text": [
      "0       Go until jurong point, crazy.. Available only ...\n",
      "1                           Ok lar... Joking wif u oni...\n",
      "2       Free entry in 2 a wkly comp to win FA Cup fina...\n",
      "3       U dun say so early hor... U c already then say...\n",
      "4       Nah I don't think he goes to usf, he lives aro...\n",
      "                              ...                        \n",
      "5567    This is the 2nd time we have tried 2 contact u...\n",
      "5568                 Will ü b going to esplanade fr home?\n",
      "5569    Pity, * was in mood for that. So...any other s...\n",
      "5570    The guy did some bitching but I acted like i'd...\n",
      "5571                           Rofl. Its true to its name\n",
      "Name: Message, Length: 5572, dtype: object\n",
      "0       1\n",
      "1       1\n",
      "2       0\n",
      "3       1\n",
      "4       1\n",
      "       ..\n",
      "5567    0\n",
      "5568    1\n",
      "5569    1\n",
      "5570    1\n",
      "5571    1\n",
      "Name: Category, Length: 5572, dtype: object\n"
     ]
    }
   ],
   "source": [
    "# Seperate the data as texts and label\n",
    "X=raw_mail_data['Message']\n",
    "Y=raw_mail_data['Category']\n",
    "print(X)\n",
    "print(Y)"
   ]
  },
  {
   "cell_type": "markdown",
   "id": "8252f031",
   "metadata": {},
   "source": [
    "### <i> <font color=olive >Text Preprocessing"
   ]
  },
  {
   "cell_type": "code",
   "execution_count": 69,
   "id": "d67a534f",
   "metadata": {},
   "outputs": [
    {
     "name": "stderr",
     "output_type": "stream",
     "text": [
      "[nltk_data] Downloading package stopwords to\n",
      "[nltk_data]     C:\\Users\\Admin\\AppData\\Roaming\\nltk_data...\n",
      "[nltk_data]   Package stopwords is already up-to-date!\n"
     ]
    },
    {
     "data": {
      "text/plain": [
       "True"
      ]
     },
     "execution_count": 69,
     "metadata": {},
     "output_type": "execute_result"
    }
   ],
   "source": [
    "\n",
    "import nltk\n",
    "nltk.download('stopwords')"
   ]
  },
  {
   "cell_type": "code",
   "execution_count": 70,
   "id": "fd2866ea",
   "metadata": {},
   "outputs": [],
   "source": [
    "# Text preprocessing\n",
    "# Import library\n",
    "from nltk.corpus import stopwords\n",
    "from nltk import *\n",
    "from nltk.stem import WordNetLemmatizer\n",
    "# Remove stop words\n",
    "stop = stopwords.words('english')\n",
    "raw_mail_data=raw_mail_data['Message'].apply(lambda x: \" \".join(w for w in x.split() if w not in stop))\n",
    "\n"
   ]
  },
  {
   "cell_type": "code",
   "execution_count": 71,
   "id": "0b3f9594",
   "metadata": {},
   "outputs": [
    {
     "data": {
      "text/plain": [
       "0    Go jurong point, crazy.. Available bugis n gre...\n",
       "1                        Ok lar... Joking wif u oni...\n",
       "2    Free entry 2 wkly comp win FA Cup final tkts 2...\n",
       "3            U dun say early hor... U c already say...\n",
       "4            Nah I think goes usf, lives around though\n",
       "Name: Message, dtype: object"
      ]
     },
     "execution_count": 71,
     "metadata": {},
     "output_type": "execute_result"
    }
   ],
   "source": [
    "# check a small sample of pre-processed data\n",
    "raw_mail_data.head()"
   ]
  },
  {
   "cell_type": "code",
   "execution_count": 72,
   "id": "4fcbe4d4",
   "metadata": {},
   "outputs": [
    {
     "data": {
      "text/plain": [
       "0    go jurong point crazy available bugis n great ...\n",
       "1                              ok lar joking wif u oni\n",
       "2    free entry 2 wkly comp win fa cup final tkts 2...\n",
       "3                  u dun say early hor u c already say\n",
       "4             nah i think goes usf lives around though\n",
       "Name: Message, dtype: object"
      ]
     },
     "execution_count": 72,
     "metadata": {},
     "output_type": "execute_result"
    }
   ],
   "source": [
    "raw_mail_data=raw_mail_data.apply(lambda x: re.sub('  ', '',x ))\n",
    "raw_mail_data.head()\n",
    "\n",
    "raw_mail_data=raw_mail_data.apply(lambda x: re.sub('[!@#$:).;,?&]', '', x.lower()))\n",
    "\n",
    "raw_mail_data.head()"
   ]
  },
  {
   "cell_type": "markdown",
   "id": "05f20edd",
   "metadata": {},
   "source": [
    "### <i> <font color=olive > Splitting the Test_train split dataset"
   ]
  },
  {
   "cell_type": "code",
   "execution_count": 73,
   "id": "a54ba9f4",
   "metadata": {},
   "outputs": [],
   "source": [
    "X_train,X_test, Y_train,Y_test=train_test_split(X,Y,test_size=0.2,random_state=1)"
   ]
  },
  {
   "cell_type": "code",
   "execution_count": 74,
   "id": "2fb0b57b",
   "metadata": {},
   "outputs": [
    {
     "name": "stdout",
     "output_type": "stream",
     "text": [
      "1078                         Yep, by the pretty sculpture\n",
      "4028        Yes, princess. Are you going to make me moan?\n",
      "958                            Welp apparently he retired\n",
      "4642                                              Havent.\n",
      "4674    I forgot 2 ask ü all smth.. There's a card on ...\n",
      "                              ...                        \n",
      "324     That would be great. We'll be at the Guild. Co...\n",
      "1163    Free entry in 2 a wkly comp to win FA Cup fina...\n",
      "86      For real when u getting on yo? I only need 2 m...\n",
      "4214                     I attended but nothing is there.\n",
      "90      Yeah do! Don‘t stand to close tho- you‘ll catc...\n",
      "Name: Message, Length: 1115, dtype: object\n",
      "1642    Hi , where are you? We're at  and they're not ...\n",
      "2899          If you r @ home then come down within 5 min\n",
      "480     When're you guys getting back? G said you were...\n",
      "3485    Tell my  bad character which u Dnt lik in me. ...\n",
      "157                           I'm leaving my house now...\n",
      "                              ...                        \n",
      "905     We're all getting worried over here, derek and...\n",
      "5192    Oh oh... Den muz change plan liao... Go back h...\n",
      "3980    CERI U REBEL! SWEET DREAMZ ME LITTLE BUDDY!! C...\n",
      "235     Text & meet someone sexy today. U can find a d...\n",
      "5157                              K k:) sms chat with me.\n",
      "Name: Message, Length: 4457, dtype: object\n",
      "1642    1\n",
      "2899    1\n",
      "480     1\n",
      "3485    1\n",
      "157     1\n",
      "       ..\n",
      "905     1\n",
      "5192    1\n",
      "3980    1\n",
      "235     0\n",
      "5157    1\n",
      "Name: Category, Length: 4457, dtype: object\n",
      "1078    1\n",
      "4028    1\n",
      "958     1\n",
      "4642    1\n",
      "4674    1\n",
      "       ..\n",
      "324     1\n",
      "1163    0\n",
      "86      1\n",
      "4214    1\n",
      "90      1\n",
      "Name: Category, Length: 1115, dtype: object\n"
     ]
    }
   ],
   "source": [
    "print(X_test)\n",
    "print(X_train)\n",
    "print(Y_train)\n",
    "print(Y_test)"
   ]
  },
  {
   "cell_type": "code",
   "execution_count": 75,
   "id": "e839d537",
   "metadata": {},
   "outputs": [
    {
     "name": "stdout",
     "output_type": "stream",
     "text": [
      "0       1\n",
      "1       1\n",
      "2       0\n",
      "3       1\n",
      "4       1\n",
      "       ..\n",
      "5567    0\n",
      "5568    1\n",
      "5569    1\n",
      "5570    1\n",
      "5571    1\n",
      "Name: Category, Length: 5572, dtype: object\n"
     ]
    }
   ],
   "source": [
    "print(Y)"
   ]
  },
  {
   "cell_type": "markdown",
   "id": "bcbb8422",
   "metadata": {},
   "source": [
    "## There are total  5571 mails  out of 80% will go to the training data and remaining 20% have test data\n"
   ]
  },
  {
   "cell_type": "code",
   "execution_count": 76,
   "id": "882d842c",
   "metadata": {},
   "outputs": [
    {
     "name": "stdout",
     "output_type": "stream",
     "text": [
      "1642    Hi , where are you? We're at  and they're not ...\n",
      "2899          If you r @ home then come down within 5 min\n",
      "480     When're you guys getting back? G said you were...\n",
      "3485    Tell my  bad character which u Dnt lik in me. ...\n",
      "157                           I'm leaving my house now...\n",
      "                              ...                        \n",
      "905     We're all getting worried over here, derek and...\n",
      "5192    Oh oh... Den muz change plan liao... Go back h...\n",
      "3980    CERI U REBEL! SWEET DREAMZ ME LITTLE BUDDY!! C...\n",
      "235     Text & meet someone sexy today. U can find a d...\n",
      "5157                              K k:) sms chat with me.\n",
      "Name: Message, Length: 4457, dtype: object\n"
     ]
    }
   ],
   "source": [
    "print(X_train)"
   ]
  },
  {
   "cell_type": "markdown",
   "id": "57d31ab5",
   "metadata": {},
   "source": [
    "### <i> <font color=olive >Feature extraction"
   ]
  },
  {
   "cell_type": "code",
   "execution_count": 77,
   "id": "55419423",
   "metadata": {},
   "outputs": [
    {
     "name": "stdout",
     "output_type": "stream",
     "text": [
      "  (0, 4346)\t0.3238008504874723\n",
      "  (0, 2353)\t0.2545072203817634\n",
      "  (0, 6695)\t0.3616065178053154\n",
      "  (0, 5895)\t0.415102954745324\n",
      "  (0, 2719)\t0.299459437576315\n",
      "  (0, 3822)\t0.37729728742748087\n",
      "  (0, 3789)\t0.4750235197588447\n",
      "  (0, 3321)\t0.2638802854739516\n",
      "  (1, 4343)\t0.6555659308129219\n",
      "  (1, 1858)\t0.5163195438969705\n",
      "  (1, 3365)\t0.5510421389942982\n",
      "  (2, 4267)\t0.531599749449541\n",
      "  (2, 6215)\t0.43979370278404856\n",
      "  (2, 6597)\t0.40097414833733686\n",
      "  (2, 5672)\t0.32606636481997364\n",
      "  (2, 3025)\t0.3502912545366897\n",
      "  (2, 3185)\t0.3663054742561573\n",
      "  (3, 4447)\t0.18080236341909536\n",
      "  (3, 3084)\t0.14346439189216004\n",
      "  (3, 2877)\t0.30030357190007717\n",
      "  (3, 5515)\t0.16439483489485024\n",
      "  (3, 6922)\t0.13381964389308706\n",
      "  (3, 7080)\t0.19700844583868773\n",
      "  (3, 5535)\t0.30030357190007717\n",
      "  (3, 7398)\t0.19877707762085306\n",
      "  :\t:\n",
      "  (4454, 397)\t0.31848634658760416\n",
      "  (4454, 4027)\t0.2561192223695296\n",
      "  (4454, 6409)\t0.2511086901671169\n",
      "  (4454, 7382)\t0.23350338191116915\n",
      "  (4454, 4578)\t0.28626353932821713\n",
      "  (4455, 6600)\t0.3164025961524856\n",
      "  (4455, 2805)\t0.3016723549044074\n",
      "  (4455, 5425)\t0.2831144456705363\n",
      "  (4455, 4948)\t0.291221082414565\n",
      "  (4455, 365)\t0.2708906633533937\n",
      "  (4455, 860)\t0.2544703850602943\n",
      "  (4455, 5684)\t0.2831144456705363\n",
      "  (4455, 3721)\t0.22464478145066644\n",
      "  (4455, 4284)\t0.18993177207181944\n",
      "  (4455, 4473)\t0.18061588089155375\n",
      "  (4455, 313)\t0.20494254942428108\n",
      "  (4455, 5821)\t0.2292888713223737\n",
      "  (4455, 260)\t0.23097890836739493\n",
      "  (4455, 2124)\t0.2386556082002209\n",
      "  (4455, 6681)\t0.1644718719525843\n",
      "  (4455, 6546)\t0.1617993994273865\n",
      "  (4455, 3759)\t0.13547655899979386\n",
      "  (4455, 5515)\t0.17320790500652877\n",
      "  (4456, 6025)\t0.6984641956538138\n",
      "  (4456, 1703)\t0.7156450009534552\n"
     ]
    }
   ],
   "source": [
    "Feature_extraction = TfidfVectorizer(min_df = 1, stop_words='english', lowercase='True')     \n",
    "X_train_features=Feature_extraction.fit_transform(X_train)\n",
    "X_test_features=Feature_extraction.transform(X_test)\n",
    "print(X_train_features)\n",
    "\n",
    "\n",
    "    \n",
    "    \n",
    "    \n",
    "    \n",
    "    \n",
    "    \n",
    "    \n",
    "  "
   ]
  },
  {
   "cell_type": "code",
   "execution_count": 78,
   "id": "d395e69a",
   "metadata": {},
   "outputs": [
    {
     "data": {
      "text/plain": [
       "scipy.sparse.csr.csr_matrix"
      ]
     },
     "execution_count": 78,
     "metadata": {},
     "output_type": "execute_result"
    }
   ],
   "source": [
    "type(X_train_features)"
   ]
  },
  {
   "cell_type": "code",
   "execution_count": 79,
   "id": "e67854a1",
   "metadata": {},
   "outputs": [
    {
     "name": "stdout",
     "output_type": "stream",
     "text": [
      "1642    1\n",
      "2899    1\n",
      "480     1\n",
      "3485    1\n",
      "157     1\n",
      "       ..\n",
      "905     1\n",
      "5192    1\n",
      "3980    1\n",
      "235     0\n",
      "5157    1\n",
      "Name: Category, Length: 4457, dtype: object\n"
     ]
    }
   ],
   "source": [
    "print(Y_train)"
   ]
  },
  {
   "cell_type": "code",
   "execution_count": 80,
   "id": "98eb085f",
   "metadata": {},
   "outputs": [],
   "source": [
    "Y_train=Y_train.astype('int')\n",
    "Y_test=Y_test.astype('int')"
   ]
  },
  {
   "cell_type": "code",
   "execution_count": 81,
   "id": "62e1820e",
   "metadata": {},
   "outputs": [
    {
     "name": "stdout",
     "output_type": "stream",
     "text": [
      "1642    1\n",
      "2899    1\n",
      "480     1\n",
      "3485    1\n",
      "157     1\n",
      "       ..\n",
      "905     1\n",
      "5192    1\n",
      "3980    1\n",
      "235     0\n",
      "5157    1\n",
      "Name: Category, Length: 4457, dtype: int32\n",
      "1078    1\n",
      "4028    1\n",
      "958     1\n",
      "4642    1\n",
      "4674    1\n",
      "       ..\n",
      "324     1\n",
      "1163    0\n",
      "86      1\n",
      "4214    1\n",
      "90      1\n",
      "Name: Category, Length: 1115, dtype: int32\n"
     ]
    }
   ],
   "source": [
    "print(Y_train)\n",
    "print(Y_test)"
   ]
  },
  {
   "cell_type": "markdown",
   "id": "755b9286",
   "metadata": {},
   "source": [
    "#### <i> <font color=olive >Model predicting"
   ]
  },
  {
   "cell_type": "code",
   "execution_count": 82,
   "id": "6c307ceb",
   "metadata": {},
   "outputs": [],
   "source": [
    "from sklearn.linear_model import LogisticRegression  "
   ]
  },
  {
   "cell_type": "code",
   "execution_count": 83,
   "id": "cc871b74",
   "metadata": {},
   "outputs": [
    {
     "data": {
      "text/html": [
       "<style>#sk-container-id-3 {color: black;background-color: white;}#sk-container-id-3 pre{padding: 0;}#sk-container-id-3 div.sk-toggleable {background-color: white;}#sk-container-id-3 label.sk-toggleable__label {cursor: pointer;display: block;width: 100%;margin-bottom: 0;padding: 0.3em;box-sizing: border-box;text-align: center;}#sk-container-id-3 label.sk-toggleable__label-arrow:before {content: \"▸\";float: left;margin-right: 0.25em;color: #696969;}#sk-container-id-3 label.sk-toggleable__label-arrow:hover:before {color: black;}#sk-container-id-3 div.sk-estimator:hover label.sk-toggleable__label-arrow:before {color: black;}#sk-container-id-3 div.sk-toggleable__content {max-height: 0;max-width: 0;overflow: hidden;text-align: left;background-color: #f0f8ff;}#sk-container-id-3 div.sk-toggleable__content pre {margin: 0.2em;color: black;border-radius: 0.25em;background-color: #f0f8ff;}#sk-container-id-3 input.sk-toggleable__control:checked~div.sk-toggleable__content {max-height: 200px;max-width: 100%;overflow: auto;}#sk-container-id-3 input.sk-toggleable__control:checked~label.sk-toggleable__label-arrow:before {content: \"▾\";}#sk-container-id-3 div.sk-estimator input.sk-toggleable__control:checked~label.sk-toggleable__label {background-color: #d4ebff;}#sk-container-id-3 div.sk-label input.sk-toggleable__control:checked~label.sk-toggleable__label {background-color: #d4ebff;}#sk-container-id-3 input.sk-hidden--visually {border: 0;clip: rect(1px 1px 1px 1px);clip: rect(1px, 1px, 1px, 1px);height: 1px;margin: -1px;overflow: hidden;padding: 0;position: absolute;width: 1px;}#sk-container-id-3 div.sk-estimator {font-family: monospace;background-color: #f0f8ff;border: 1px dotted black;border-radius: 0.25em;box-sizing: border-box;margin-bottom: 0.5em;}#sk-container-id-3 div.sk-estimator:hover {background-color: #d4ebff;}#sk-container-id-3 div.sk-parallel-item::after {content: \"\";width: 100%;border-bottom: 1px solid gray;flex-grow: 1;}#sk-container-id-3 div.sk-label:hover label.sk-toggleable__label {background-color: #d4ebff;}#sk-container-id-3 div.sk-serial::before {content: \"\";position: absolute;border-left: 1px solid gray;box-sizing: border-box;top: 0;bottom: 0;left: 50%;z-index: 0;}#sk-container-id-3 div.sk-serial {display: flex;flex-direction: column;align-items: center;background-color: white;padding-right: 0.2em;padding-left: 0.2em;position: relative;}#sk-container-id-3 div.sk-item {position: relative;z-index: 1;}#sk-container-id-3 div.sk-parallel {display: flex;align-items: stretch;justify-content: center;background-color: white;position: relative;}#sk-container-id-3 div.sk-item::before, #sk-container-id-3 div.sk-parallel-item::before {content: \"\";position: absolute;border-left: 1px solid gray;box-sizing: border-box;top: 0;bottom: 0;left: 50%;z-index: -1;}#sk-container-id-3 div.sk-parallel-item {display: flex;flex-direction: column;z-index: 1;position: relative;background-color: white;}#sk-container-id-3 div.sk-parallel-item:first-child::after {align-self: flex-end;width: 50%;}#sk-container-id-3 div.sk-parallel-item:last-child::after {align-self: flex-start;width: 50%;}#sk-container-id-3 div.sk-parallel-item:only-child::after {width: 0;}#sk-container-id-3 div.sk-dashed-wrapped {border: 1px dashed gray;margin: 0 0.4em 0.5em 0.4em;box-sizing: border-box;padding-bottom: 0.4em;background-color: white;}#sk-container-id-3 div.sk-label label {font-family: monospace;font-weight: bold;display: inline-block;line-height: 1.2em;}#sk-container-id-3 div.sk-label-container {text-align: center;}#sk-container-id-3 div.sk-container {/* jupyter's `normalize.less` sets `[hidden] { display: none; }` but bootstrap.min.css set `[hidden] { display: none !important; }` so we also need the `!important` here to be able to override the default hidden behavior on the sphinx rendered scikit-learn.org. See: https://github.com/scikit-learn/scikit-learn/issues/21755 */display: inline-block !important;position: relative;}#sk-container-id-3 div.sk-text-repr-fallback {display: none;}</style><div id=\"sk-container-id-3\" class=\"sk-top-container\"><div class=\"sk-text-repr-fallback\"><pre>LogisticRegression(C=0.001, max_iter=5000, random_state=10)</pre><b>In a Jupyter environment, please rerun this cell to show the HTML representation or trust the notebook. <br />On GitHub, the HTML representation is unable to render, please try loading this page with nbviewer.org.</b></div><div class=\"sk-container\" hidden><div class=\"sk-item\"><div class=\"sk-estimator sk-toggleable\"><input class=\"sk-toggleable__control sk-hidden--visually\" id=\"sk-estimator-id-3\" type=\"checkbox\" checked><label for=\"sk-estimator-id-3\" class=\"sk-toggleable__label sk-toggleable__label-arrow\">LogisticRegression</label><div class=\"sk-toggleable__content\"><pre>LogisticRegression(C=0.001, max_iter=5000, random_state=10)</pre></div></div></div></div></div>"
      ],
      "text/plain": [
       "LogisticRegression(C=0.001, max_iter=5000, random_state=10)"
      ]
     },
     "execution_count": 83,
     "metadata": {},
     "output_type": "execute_result"
    }
   ],
   "source": [
    "model=LogisticRegression(C=0.001,random_state=10,max_iter=5000)\n",
    "model.fit(X_train_features,Y_train)"
   ]
  },
  {
   "cell_type": "code",
   "execution_count": 84,
   "id": "c0855ae4",
   "metadata": {},
   "outputs": [
    {
     "data": {
      "text/plain": [
       "array([1.86035338])"
      ]
     },
     "execution_count": 84,
     "metadata": {},
     "output_type": "execute_result"
    }
   ],
   "source": [
    "model.intercept_"
   ]
  },
  {
   "cell_type": "code",
   "execution_count": 85,
   "id": "f50b0f5c",
   "metadata": {},
   "outputs": [
    {
     "data": {
      "text/plain": [
       "array([[-1.03782894e-03, -4.97799490e-03, -4.85734059e-04, ...,\n",
       "         2.13373811e-05,  2.56243226e-05,  5.40558116e-05]])"
      ]
     },
     "execution_count": 85,
     "metadata": {},
     "output_type": "execute_result"
    }
   ],
   "source": [
    "model.coef_"
   ]
  },
  {
   "cell_type": "code",
   "execution_count": 86,
   "id": "ab3b1bb0",
   "metadata": {},
   "outputs": [],
   "source": [
    "Y_pred=model.predict(X_train_features)"
   ]
  },
  {
   "cell_type": "code",
   "execution_count": 87,
   "id": "79b29327",
   "metadata": {},
   "outputs": [
    {
     "data": {
      "text/plain": [
       "array([1, 1, 1, ..., 1, 1, 1])"
      ]
     },
     "execution_count": 87,
     "metadata": {},
     "output_type": "execute_result"
    }
   ],
   "source": [
    "Y_pred"
   ]
  },
  {
   "cell_type": "code",
   "execution_count": 88,
   "id": "fe44acbd",
   "metadata": {},
   "outputs": [
    {
     "data": {
      "text/plain": [
       "0.8653803006506618"
      ]
     },
     "execution_count": 88,
     "metadata": {},
     "output_type": "execute_result"
    }
   ],
   "source": [
    "from sklearn.metrics import accuracy_score\n",
    "accuracy_score(Y_train,Y_pred)\n"
   ]
  },
  {
   "cell_type": "markdown",
   "id": "e5e3b3b9",
   "metadata": {},
   "source": [
    "#### <i> <font color=olive >Conclusion"
   ]
  },
  {
   "cell_type": "markdown",
   "id": "d06c543f",
   "metadata": {},
   "source": [
    "<span style=\"font-size:1.8em\">This shows that our  machine has accuracy of about <b> ~86% </b>to know whether the mail is Spam or not.</font>"
   ]
  }
 ],
 "metadata": {
  "kernelspec": {
   "display_name": "Python 3",
   "language": "python",
   "name": "python3"
  },
  "language_info": {
   "codemirror_mode": {
    "name": "ipython",
    "version": 3
   },
   "file_extension": ".py",
   "mimetype": "text/x-python",
   "name": "python",
   "nbconvert_exporter": "python",
   "pygments_lexer": "ipython3",
   "version": "3.8.8"
  }
 },
 "nbformat": 4,
 "nbformat_minor": 5
}
